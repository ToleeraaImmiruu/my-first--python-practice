{
 "cells": [
  {
   "cell_type": "code",
   "execution_count": 59,
   "id": "fcfa4cd4-75b8-477d-a976-da8e56abfc72",
   "metadata": {},
   "outputs": [
    {
     "data": {
      "text/html": [
       "<div>\n",
       "<style scoped>\n",
       "    .dataframe tbody tr th:only-of-type {\n",
       "        vertical-align: middle;\n",
       "    }\n",
       "\n",
       "    .dataframe tbody tr th {\n",
       "        vertical-align: top;\n",
       "    }\n",
       "\n",
       "    .dataframe thead th {\n",
       "        text-align: right;\n",
       "    }\n",
       "</style>\n",
       "<table border=\"1\" class=\"dataframe\">\n",
       "  <thead>\n",
       "    <tr style=\"text-align: right;\">\n",
       "      <th></th>\n",
       "      <th>Gender</th>\n",
       "      <th>Height</th>\n",
       "    </tr>\n",
       "  </thead>\n",
       "  <tbody>\n",
       "    <tr>\n",
       "      <th>0</th>\n",
       "      <td>Male</td>\n",
       "      <td>73.847017</td>\n",
       "    </tr>\n",
       "    <tr>\n",
       "      <th>1</th>\n",
       "      <td>Male</td>\n",
       "      <td>68.781904</td>\n",
       "    </tr>\n",
       "    <tr>\n",
       "      <th>2</th>\n",
       "      <td>Male</td>\n",
       "      <td>74.110105</td>\n",
       "    </tr>\n",
       "    <tr>\n",
       "      <th>3</th>\n",
       "      <td>Male</td>\n",
       "      <td>71.730978</td>\n",
       "    </tr>\n",
       "    <tr>\n",
       "      <th>4</th>\n",
       "      <td>Male</td>\n",
       "      <td>69.881796</td>\n",
       "    </tr>\n",
       "    <tr>\n",
       "      <th>5</th>\n",
       "      <td>Male</td>\n",
       "      <td>67.253016</td>\n",
       "    </tr>\n",
       "    <tr>\n",
       "      <th>6</th>\n",
       "      <td>Male</td>\n",
       "      <td>68.785081</td>\n",
       "    </tr>\n",
       "    <tr>\n",
       "      <th>7</th>\n",
       "      <td>Male</td>\n",
       "      <td>500.000000</td>\n",
       "    </tr>\n",
       "    <tr>\n",
       "      <th>8</th>\n",
       "      <td>Male</td>\n",
       "      <td>550.000000</td>\n",
       "    </tr>\n",
       "  </tbody>\n",
       "</table>\n",
       "</div>"
      ],
      "text/plain": [
       "  Gender      Height\n",
       "0   Male   73.847017\n",
       "1   Male   68.781904\n",
       "2   Male   74.110105\n",
       "3   Male   71.730978\n",
       "4   Male   69.881796\n",
       "5   Male   67.253016\n",
       "6   Male   68.785081\n",
       "7   Male  500.000000\n",
       "8   Male  550.000000"
      ]
     },
     "execution_count": 59,
     "metadata": {},
     "output_type": "execute_result"
    }
   ],
   "source": [
    "import pandas as pd\n",
    "import seaborn as sn\n",
    "df = pd.read_csv(\"weight-height2.csv\")\n",
    "df\n"
   ]
  },
  {
   "cell_type": "code",
   "execution_count": 57,
   "id": "b5ac7a50-b9d4-419f-9f5f-8f3e606731d2",
   "metadata": {},
   "outputs": [
    {
     "name": "stdout",
     "output_type": "stream",
     "text": [
      "   Gender     Height  -0.486903  -0.512133  -0.485593  -0.497443  -0.506654  \\\n",
      "0    Male  73.847017  -0.486903  -0.512133  -0.485593  -0.497443  -0.506654   \n",
      "1    Male  68.781904  -0.486903  -0.512133  -0.485593  -0.497443  -0.506654   \n",
      "2    Male  74.110105  -0.486903  -0.512133  -0.485593  -0.497443  -0.506654   \n",
      "3    Male  71.730978  -0.486903  -0.512133  -0.485593  -0.497443  -0.506654   \n",
      "4    Male  69.881796  -0.486903  -0.512133  -0.485593  -0.497443  -0.506654   \n",
      "5    Male  67.253016  -0.486903  -0.512133  -0.485593  -0.497443  -0.506654   \n",
      "6    Male  68.785081  -0.486903  -0.512133  -0.485593  -0.497443  -0.506654   \n",
      "\n",
      "   -0.519748  -0.512117   1.63577   1.884821   Z_Scores  \n",
      "0  -0.519748  -0.512117   1.63577   1.884821  -0.486903  \n",
      "1  -0.519748  -0.512117   1.63577   1.884821  -0.512133  \n",
      "2  -0.519748  -0.512117   1.63577   1.884821  -0.485593  \n",
      "3  -0.519748  -0.512117   1.63577   1.884821  -0.497443  \n",
      "4  -0.519748  -0.512117   1.63577   1.884821  -0.506654  \n",
      "5  -0.519748  -0.512117   1.63577   1.884821  -0.519748  \n",
      "6  -0.519748  -0.512117   1.63577   1.884821  -0.512117  \n"
     ]
    }
   ],
   "source": [
    "mean = df['Height'].mean()\n",
    "std = df['Height'].std()\n",
    "df['Z_Scores'] = (df['Height'] - mean) / std\n",
    "\n",
    "df_no_outliers = df[df['Z_Scores'].abs() < 1]\n",
    "print(df_no_outliers)\n"
   ]
  },
  {
   "cell_type": "code",
   "execution_count": 24,
   "id": "b672beea-9abc-48e9-89c1-6cec50f222fe",
   "metadata": {},
   "outputs": [
    {
     "data": {
      "text/plain": [
       "8"
      ]
     },
     "execution_count": 24,
     "metadata": {},
     "output_type": "execute_result"
    },
    {
     "data": {
      "image/png": "[encoded data removed]",
      "text/plain": [
       "<Figure size 640x480 with 1 Axes>"
      ]
     },
     "metadata": {},
     "output_type": "display_data"
    }
   ],
   "source": [
    "sn.histplot(df.Height, kde=True)\n",
    "\n",
    "\n"
   ]
  },
  {
   "cell_type": "code",
   "execution_count": 39,
   "id": "f115745d-f805-4b43-ba03-383bd7a64de1",
   "metadata": {},
   "outputs": [
    {
     "data": {
      "text/plain": [
       "2.6600577700555434"
      ]
     },
     "execution_count": 39,
     "metadata": {},
     "output_type": "execute_result"
    }
   ],
   "source": [
    "\n"
   ]
  }
 ],
 "metadata": {
  "kernelspec": {
   "display_name": "Python [conda env:base] *",
   "language": "python",
   "name": "conda-base-py"
  },
  "language_info": {
   "codemirror_mode": {
    "name": "ipython",
    "version": 3
   },
   "file_extension": ".py",
   "mimetype": "text/x-python",
   "name": "python",
   "nbconvert_exporter": "python",
   "pygments_lexer": "ipython3",
   "version": "3.13.5"
  }
 },
 "nbformat": 4,
 "nbformat_minor": 5
}
