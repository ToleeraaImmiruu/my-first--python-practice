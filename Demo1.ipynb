{
 "cells": [
  {
   "cell_type": "code",
   "execution_count": 15,
   "id": "3591af2d-adee-491a-97e5-75173779cd37",
   "metadata": {},
   "outputs": [
    {
     "name": "stdout",
     "output_type": "stream",
     "text": [
      "2 4 6 8\n",
      "The sum of the array was :[ 6  8 10 12]\n",
      "The broadcasting of the number was : [[ 2  4  8 10 14]]\n",
      "(1, 5)\n",
      "The filtered data was [10 12]\n",
      "The random number from the array was:  1\n"
     ]
    }
   ],
   "source": [
    "# import pandas as pd\n",
    "# from sklearn.tree import DecisionTreeClassifier\n",
    "\n",
    "# music_data=pd.read_csv('music1.csv')\n",
    "# music_data\n",
    "# #readig the data from the different viwe of point \n",
    "\n",
    "\n",
    "# # music_data[ (music_data[\"age\"] == 20)&(music_data[\"gender\"]==0)]\n",
    "# # music_data.loc[music_data[\"genre\"] == \"Dance\"]\n",
    "\n",
    "# # X=music_data.drop(columns=['genre'])\n",
    "# # y=music_data['genre']       \n",
    "# # model=DecisionTreeClassifier()\n",
    "# # model.fit(X,y)\n",
    "# # prediction=model.predict([[22,1],[22,0]])\n",
    "# # prediction\n",
    "\n",
    "# ##The dropena() which was used to remove the NaN data in the data set example of this one \n",
    "# # cleaned =music_data.dropna()\n",
    "# # print(cleaned)\n",
    "\n",
    "# ##The  fillna() which was used to fill the empty or the NaN values with out removing it in the data \n",
    "# filled = music_data.fillna({\n",
    "#     \"genre\" : \"Unknown\"})\n",
    "# print(filled)\n",
    "\n",
    "\n",
    "##working with the Numpy for to handle the mathimatical parts of the data\n",
    "import numpy as np\n",
    "# my_list=[1,2,3,4]\n",
    "# my_list= my_list *2 This was display the numbe of array twise not multipliyede using two \n",
    "# print(my_list)\n",
    "\n",
    "# usage of the numpy \n",
    "array = np.array([1,2,3,4])\n",
    "array= array  * 2\n",
    "print(*array)\n",
    "\n",
    "#The multidimentionaal arrays \n",
    "array= np.array([\n",
    "    [1,2,3,4],\n",
    "    [5,6,7,8,],\n",
    "    [9,10,11,12],\n",
    "    [13,14,15,16]\n",
    "]) \n",
    "##To display the ROW frist skip the seceond and displayed the threed ROW\n",
    "\n",
    "# print(array[0:4:2])\n",
    "\n",
    "#Adding the inndividuals array to one uisng the numpy \n",
    "data1=np.array([1,2,3,4])\n",
    "data2=np.array([5,6,7,8])\n",
    "print(f\"The sum of the array was :{data1 + data2}\")\n",
    "#working the broadcasts using the numpy \n",
    "a = np.array([[1,2,4,5,7]])\n",
    "b = 2\n",
    "result = a * b\n",
    "print( f\"The broadcasting of the number was :\",result )\n",
    "print(a.shape)\n",
    "\n",
    "#Filtering data in the numpy keeping the only relevant data and removing the another data \n",
    "filter_data= np.array([2,3,4,5,10,12])\n",
    "filtered = filter_data[(filter_data > 5) & (filter_data % 2 == 0 )]\n",
    "print(f\"The filtered data was\",filtered)\n",
    "\n",
    "#Generating the random numbers in the numpy\n",
    "rng = np.random.default_rng()\n",
    "print(f\"The random number from the array was: \",rng.integers(1,11))\n"
   ]
  },
  {
   "cell_type": "code",
   "execution_count": null,
   "id": "8efd42ce-440e-4e91-9d95-50859b3a825a",
   "metadata": {},
   "outputs": [],
   "source": []
  },
  {
   "cell_type": "code",
   "execution_count": null,
   "id": "b9dbbc45-9e2c-4fe6-a4ad-78206b530f02",
   "metadata": {},
   "outputs": [],
   "source": []
  },
  {
   "cell_type": "code",
   "execution_count": null,
   "id": "ab1575bf-0c6e-4fac-b1fc-0f3e428f38c1",
   "metadata": {},
   "outputs": [],
   "source": []
  }
 ],
 "metadata": {
  "kernelspec": {
   "display_name": "Python 3",
   "language": "python",
   "name": "python3"
  },
  "language_info": {
   "codemirror_mode": {
    "name": "ipython",
    "version": 3
   },
   "file_extension": ".py",
   "mimetype": "text/x-python",
   "name": "python",
   "nbconvert_exporter": "python",
   "pygments_lexer": "ipython3",
   "version": "3.13.7"
  }
 },
 "nbformat": 4,
 "nbformat_minor": 5
}
